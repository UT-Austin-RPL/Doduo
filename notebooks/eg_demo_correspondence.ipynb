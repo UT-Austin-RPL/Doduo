{
 "cells": [
  {
   "cell_type": "code",
   "execution_count": null,
   "metadata": {},
   "outputs": [],
   "source": [
    "%load_ext autoreload\n",
    "%autoreload 2"
   ]
  },
  {
   "cell_type": "code",
   "execution_count": null,
   "metadata": {},
   "outputs": [],
   "source": [
    "import pyrootutils\n",
    "\n",
    "root = pyrootutils.setup_root(\n",
    "    search_from=\"../src/\",\n",
    "    indicator=[\".git\", \"pyproject.toml\"],\n",
    "    pythonpath=True,\n",
    "    dotenv=True,\n",
    ")"
   ]
  },
  {
   "cell_type": "code",
   "execution_count": null,
   "metadata": {},
   "outputs": [],
   "source": [
    "import os\n",
    "\n",
    "os.environ[\"CUDA_VISIBLE_DEVICES\"] = \"0\""
   ]
  },
  {
   "cell_type": "code",
   "execution_count": null,
   "metadata": {},
   "outputs": [],
   "source": [
    "import hydra\n",
    "import matplotlib.pyplot as plt\n",
    "import numpy as np\n",
    "import torch\n",
    "\n",
    "from src.models.components.unimatch.geometry import coords_grid\n",
    "from src.utils.pylogger import setup_logger\n",
    "\n",
    "setup_logger()"
   ]
  },
  {
   "cell_type": "code",
   "execution_count": null,
   "metadata": {},
   "outputs": [],
   "source": [
    "# load config\n",
    "with hydra.initialize(config_path=\"../configs/\", version_base=\"1.1\"):\n",
    "    cfg = hydra.compose(\n",
    "        config_name=\"eval\",\n",
    "        overrides=[\n",
    "            \"experiment=doduo_train\",\n",
    "        ],\n",
    "        return_hydra_config=True,\n",
    "    )\n",
    "# deterministic\n",
    "torch.set_grad_enabled(False)\n",
    "torch.backends.cudnn.deterministic = True\n",
    "# initialize and load model\n",
    "datamodule = hydra.utils.instantiate(cfg.datamodule)\n",
    "loggers = []\n",
    "device = torch.device(\"cuda\" if torch.cuda.is_available() else \"cpu\")\n",
    "model = hydra.utils.instantiate(cfg.model, datamodule=datamodule, loggers=loggers, device=device)\n",
    "model.load_ckpt(\"../data/doduo.ckpt\")\n",
    "_ = model.net.eval()"
   ]
  },
  {
   "cell_type": "code",
   "execution_count": null,
   "metadata": {},
   "outputs": [],
   "source": [
    "import cv2\n",
    "from PIL import Image\n",
    "from torchvision import transforms\n",
    "\n",
    "IMAGENET_DEFAULT_MEAN = [0.485, 0.456, 0.406]\n",
    "IMAGENET_DEFAULT_STD = [0.229, 0.224, 0.225]\n",
    "resize_size = (240, 320)\n",
    "transform = transforms.Compose(\n",
    "    [\n",
    "        transforms.Resize(resize_size),\n",
    "        lambda x: transforms.ToTensor()(x)[:3],\n",
    "        transforms.Normalize(mean=IMAGENET_DEFAULT_MEAN, std=IMAGENET_DEFAULT_STD),\n",
    "    ]\n",
    ")"
   ]
  },
  {
   "cell_type": "code",
   "execution_count": null,
   "metadata": {},
   "outputs": [],
   "source": [
    "# load image\n",
    "imfile1 = \"../data/imgs_src.png\"\n",
    "imfile2 = \"../data/imgs_dst.png\"\n",
    "\n",
    "frame_src = transform(Image.open(imfile1)).unsqueeze(0).cuda()\n",
    "frame_dst = transform(Image.open(imfile2)).unsqueeze(0).cuda()\n",
    "frame1_img = np.array(Image.open(imfile1).resize((resize_size[1], resize_size[0])))\n",
    "frame2_img = np.array(Image.open(imfile2).resize((resize_size[1], resize_size[0])))"
   ]
  },
  {
   "cell_type": "code",
   "execution_count": null,
   "metadata": {},
   "outputs": [],
   "source": [
    "# inference dense correspondence\n",
    "_, vis_dict = model.net({\"frame_src\": frame_src, \"frame_dst\": frame_dst}, return_feature=True)\n",
    "flow = vis_dict[\"flow\"]\n",
    "flow_coords = coords_grid(flow.size(0), flow.size(2), flow.size(3)).to(flow.device)\n",
    "matching = flow + flow_coords\n",
    "matching = matching[0].long().cpu().numpy()"
   ]
  },
  {
   "cell_type": "code",
   "execution_count": null,
   "metadata": {},
   "outputs": [],
   "source": [
    "# interactive visualization of correspondence\n",
    "# click on left image and get corresponding point on the right\n",
    "%matplotlib nbagg\n",
    "fig, axs = plt.subplots(1, 2, figsize=(10, 5))\n",
    "axs[0].imshow(frame1_img)\n",
    "axs[0].axis(\"off\")\n",
    "axs[1].imshow(frame2_img)\n",
    "axs[1].axis(\"off\")\n",
    "\n",
    "\n",
    "def onclick(event):\n",
    "    if event.xdata is not None and event.ydata is not None:\n",
    "        x = int(event.xdata)\n",
    "        y = int(event.ydata)\n",
    "        frame1_img_mark = cv2.circle(frame1_img.copy(), (x, y), 3, (0, 0, 255), -1)\n",
    "        max_x, max_y = matching[:, y, x]\n",
    "        frame2_img_mark = cv2.circle(frame2_img.copy(), (max_x, max_y), 3, (0, 255, 0), -1)\n",
    "        axs[0].imshow(frame1_img_mark)\n",
    "        axs[0].axis(\"off\")\n",
    "        axs[1].imshow(frame2_img_mark)\n",
    "        axs[1].axis(\"off\")\n",
    "        plt.draw()\n",
    "\n",
    "\n",
    "cid = fig.canvas.mpl_connect(\"button_press_event\", onclick)\n",
    "plt.tight_layout()\n",
    "plt.show()"
   ]
  }
 ],
 "metadata": {
  "kernelspec": {
   "display_name": "Python [conda env:corr-fomo]",
   "language": "python",
   "name": "conda-env-corr-fomo-py"
  },
  "language_info": {
   "codemirror_mode": {
    "name": "ipython",
    "version": 3
   },
   "file_extension": ".py",
   "mimetype": "text/x-python",
   "name": "python",
   "nbconvert_exporter": "python",
   "pygments_lexer": "ipython3",
   "version": "3.8.15"
  }
 },
 "nbformat": 4,
 "nbformat_minor": 2
}
