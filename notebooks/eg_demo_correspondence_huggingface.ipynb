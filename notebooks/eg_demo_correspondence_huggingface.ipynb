{
 "cells": [
  {
   "cell_type": "code",
   "execution_count": null,
   "metadata": {},
   "outputs": [],
   "source": [
    "%load_ext autoreload\n",
    "%autoreload 2"
   ]
  },
  {
   "cell_type": "code",
   "execution_count": null,
   "metadata": {},
   "outputs": [],
   "source": [
    "import os\n",
    "\n",
    "os.environ[\"CUDA_VISIBLE_DEVICES\"] = \"0\""
   ]
  },
  {
   "cell_type": "code",
   "execution_count": null,
   "metadata": {},
   "outputs": [],
   "source": [
    "import cv2\n",
    "import matplotlib.pyplot as plt\n",
    "import numpy as np\n",
    "import torch\n",
    "from PIL import Image\n",
    "from transformers import AutoModel"
   ]
  },
  {
   "cell_type": "code",
   "execution_count": null,
   "metadata": {},
   "outputs": [],
   "source": [
    "def coords_grid(b, h, w, homogeneous=False, device=None):\n",
    "    y, x = torch.meshgrid(torch.arange(h), torch.arange(w))  # [H, W]\n",
    "\n",
    "    stacks = [x, y]\n",
    "\n",
    "    if homogeneous:\n",
    "        ones = torch.ones_like(x)  # [H, W]\n",
    "        stacks.append(ones)\n",
    "\n",
    "    grid = torch.stack(stacks, dim=0).float()  # [2, H, W] or [3, H, W]\n",
    "\n",
    "    grid = grid[None].repeat(b, 1, 1, 1)  # [B, 2, H, W] or [B, 3, H, W]\n",
    "\n",
    "    if device is not None:\n",
    "        grid = grid.to(device)\n",
    "\n",
    "    return grid"
   ]
  },
  {
   "cell_type": "code",
   "execution_count": null,
   "metadata": {},
   "outputs": [],
   "source": [
    "# load model\n",
    "model = AutoModel.from_pretrained(\"stevetod/doduo\", trust_remote_code=True)"
   ]
  },
  {
   "cell_type": "code",
   "execution_count": null,
   "metadata": {},
   "outputs": [],
   "source": [
    "# load image\n",
    "resize_size = (320, 240)\n",
    "frame_src = Image.open(\"../data/imgs_src.png\").resize(resize_size)\n",
    "frame_dst = Image.open(\"../data/imgs_dst.png\").resize(resize_size)\n",
    "\n",
    "frame1_img = np.array(frame_src)\n",
    "frame2_img = np.array(frame_dst)"
   ]
  },
  {
   "cell_type": "code",
   "execution_count": null,
   "metadata": {},
   "outputs": [],
   "source": [
    "# inference dense correspondence\n",
    "flow = model(frame_src, frame_dst)\n",
    "flow_coords = coords_grid(flow.size(0), flow.size(2), flow.size(3)).to(flow.device)\n",
    "matching = flow + flow_coords\n",
    "matching = matching[0].long().cpu().numpy()"
   ]
  },
  {
   "cell_type": "code",
   "execution_count": null,
   "metadata": {},
   "outputs": [],
   "source": [
    "# interactive visualization of correspondence\n",
    "# click on left image and get corresponding point on the right\n",
    "%matplotlib nbagg\n",
    "fig, axs = plt.subplots(1, 2, figsize=(10, 5))\n",
    "axs[0].imshow(frame1_img)\n",
    "axs[0].axis(\"off\")\n",
    "axs[1].imshow(frame2_img)\n",
    "axs[1].axis(\"off\")\n",
    "\n",
    "\n",
    "def onclick(event):\n",
    "    if event.xdata is not None and event.ydata is not None:\n",
    "        x = int(event.xdata)\n",
    "        y = int(event.ydata)\n",
    "        frame1_img_mark = cv2.circle(frame1_img.copy(), (x, y), 3, (0, 0, 255), -1)\n",
    "        max_x, max_y = matching[:, y, x]\n",
    "        frame2_img_mark = cv2.circle(frame2_img.copy(), (max_x, max_y), 3, (0, 255, 0), -1)\n",
    "        axs[0].imshow(frame1_img_mark)\n",
    "        axs[0].axis(\"off\")\n",
    "        axs[1].imshow(frame2_img_mark)\n",
    "        axs[1].axis(\"off\")\n",
    "        plt.draw()\n",
    "\n",
    "\n",
    "cid = fig.canvas.mpl_connect(\"button_press_event\", onclick)\n",
    "plt.tight_layout()\n",
    "plt.show()"
   ]
  }
 ],
 "metadata": {
  "kernelspec": {
   "display_name": "Python [conda env:corr-fomo]",
   "language": "python",
   "name": "conda-env-corr-fomo-py"
  },
  "language_info": {
   "codemirror_mode": {
    "name": "ipython",
    "version": 3
   },
   "file_extension": ".py",
   "mimetype": "text/x-python",
   "name": "python",
   "nbconvert_exporter": "python",
   "pygments_lexer": "ipython3",
   "version": "3.8.15"
  }
 },
 "nbformat": 4,
 "nbformat_minor": 2
}
